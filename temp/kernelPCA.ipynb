{
 "cells": [
  {
   "cell_type": "markdown",
   "metadata": {},
   "source": [
    "# Kernel PCA Implementation for loading HSI. Dataset: SalinasA"
   ]
  },
  {
   "cell_type": "code",
   "execution_count": 25,
   "metadata": {},
   "outputs": [],
   "source": [
    "from umap_script import loadHSI, show_clusterable_embedding, visualize_umap, compare_umap, k_means, calculate_aligned_accuracy, plot\n",
    "\n",
    "import numpy as np\n",
    "import random\n",
    "import matplotlib.pyplot as plt\n",
    "from sklearn.decomposition import KernelPCA"
   ]
  },
  {
   "cell_type": "code",
   "execution_count": 3,
   "metadata": {},
   "outputs": [],
   "source": [
    "salinasA_path = 'data/SalinasA_corrected.mat'\n",
    "salinasA_gt_path = 'data/SalinasA_gt.mat'\n",
    "\n",
    "X, M, N, D, HSI, GT, Y, n, K = loadHSI(salinasA_path, salinasA_gt_path, 'salinasA_corrected', 'salinasA_gt')"
   ]
  },
  {
   "cell_type": "code",
   "execution_count": 39,
   "metadata": {},
   "outputs": [],
   "source": [
    "def show_kernelPCA_2d(hsi_data, ground_truth):\n",
    "#     clusterable_embedding = umap.UMAP(\n",
    "#       n_neighbors=30,\n",
    "#       min_dist=0.0,\n",
    "#       n_components=2,\n",
    "#       random_state=42,\n",
    "#   ).fit_transform(hsi_data)\n",
    "    transformer = KernelPCA(n_components=2, kernel='rbf')\n",
    "    X_transformed = transformer.fit_transform(hsi_data)    \n",
    "\n",
    "    plt.scatter(X_transformed[:, 0], X_transformed[:, 1],\n",
    "              c=ground_truth, s=0.1, cmap='Spectral')\n",
    "\n",
    "    return X_transformed"
   ]
  },
  {
   "cell_type": "code",
   "execution_count": 40,
   "metadata": {},
   "outputs": [
    {
     "data": {
      "image/png": "[encoded data removed]",
      "text/plain": [
       "<Figure size 640x480 with 1 Axes>"
      ]
     },
     "metadata": {},
     "output_type": "display_data"
    }
   ],
   "source": [
    "X_transformed = show_kernelPCA_2d(HSI, GT)"
   ]
  },
  {
   "cell_type": "code",
   "execution_count": 24,
   "metadata": {},
   "outputs": [],
   "source": [
    "def visualize_kernelPCA(data_reshaped, ground_truth, n_neighbors=15, min_dist=0.1, n_components=2, metric='euclidean', title=''):\n",
    "    transformer = KernelPCA(n_components=2, kernel='cosine')\n",
    "    u = transformer.fit_transform(data_reshaped)   \n",
    "    # rotation_3d(u = u, n_components=n_components,ground_truth=ground_truth,title=title)\n",
    "    return u"
   ]
  },
  {
   "cell_type": "code",
   "execution_count": 32,
   "metadata": {},
   "outputs": [],
   "source": [
    "def compare_pca(data,ground_truth,dataset_name,compare_dim = None,compare_neighbors = None):\n",
    "    kpca_ari = []\n",
    "    kpca_aligned_acc = []\n",
    "    pca_ari = []\n",
    "    pca_aligned_acc = []\n",
    "    dims = [1,2,3,4]\n",
    "    if (compare_neighbors):\n",
    "        for i in range(1,len(dims)):            \n",
    "            pca_plot = visualize_kernelPCA(data,num=dims[i])\n",
    "            k_means_kpca_ari, k_means_lle_labels = k_means(ground_truth,dim_reduced_data = pca_plot, n_components =3, method = \"KPCA\")\n",
    "            k_means_pca_ari, k_means_pca_labels = k_means(ground_truth, data = data, n_components= 3, method = \"PCA\")\n",
    "\n",
    "            kpca_ari.append(k_means_kpca_ari)\n",
    "            pca_ari.append(k_means_pca_ari)\n",
    "\n",
    "            kpca_acc = calculate_aligned_accuracy(ground_truth, k_means_lle_labels)\n",
    "            pca_acc = calculate_aligned_accuracy(ground_truth, k_means_pca_labels)\n",
    "\n",
    "            kpca_aligned_acc.append(kpca_acc)\n",
    "            pca_aligned_acc.append(pca_acc)\n",
    "        dims = dims[1:]\n",
    "        plot(dims,kpca_ari, pca_ari,kpca_aligned_acc,pca_aligned_acc, plot_title = 'Adjusted Rand Index (ARI) vs. Number of Neighbors for ' + dataset_name, x_label = 'Number of Neighbors', dim_label = 'Kernel PCA')"
   ]
  },
  {
   "cell_type": "code",
   "execution_count": null,
   "metadata": {},
   "outputs": [],
   "source": [
    "compare_pca(HSI, GT, 'Salinas A', compare_dim=True, compare_neighbors=False)"
   ]
  },
  {
   "cell_type": "code",
   "execution_count": null,
   "metadata": {},
   "outputs": [],
   "source": []
  },
  {
   "cell_type": "code",
   "execution_count": null,
   "metadata": {},
   "outputs": [],
   "source": []
  },
  {
   "cell_type": "code",
   "execution_count": null,
   "metadata": {},
   "outputs": [],
   "source": []
  }
 ],
 "metadata": {
  "kernelspec": {
   "display_name": "ML-env",
   "language": "python",
   "name": "python3"
  },
  "language_info": {
   "codemirror_mode": {
    "name": "ipython",
    "version": 3
   },
   "file_extension": ".py",
   "mimetype": "text/x-python",
   "name": "python",
   "nbconvert_exporter": "python",
   "pygments_lexer": "ipython3",
   "version": "3.11.5"
  },
  "orig_nbformat": 4
 },
 "nbformat": 4,
 "nbformat_minor": 2
}
