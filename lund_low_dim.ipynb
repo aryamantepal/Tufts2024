{
 "cells": [
  {
   "cell_type": "code",
   "execution_count": 1,
   "metadata": {},
   "outputs": [],
   "source": [
    "import numpy as np\n",
    "from sklearn.neighbors import kneighbors_graph\n",
    "from scipy.sparse.csgraph import laplacian\n",
    "from scipy.spatial.distance import pdist, squareform\n",
    "from lund.lund import LearningbyUnsupervisedNonlinearDiffusion\n",
    "from lund.utils import GraphExtractor,DensityEstimator\n",
    "from model.utils import loadHSI,calculate_aligned_accuracy\n",
    "\n",
    "data_path, gt_path, data_name, gt_name = '/Users/seoli/Desktop/DIAMONDS/Tufts2024/data/Salinas_corrected.mat', '/Users/seoli/Desktop/DIAMONDS/Tufts2024/data/Salinas_gt.mat', 'salinas_corrected', 'salinas_gt'\n",
    "\n",
    "\n",
    "X, M, N, D, HSI, GT, Y, n, K = loadHSI(data_path, gt_path, data_name, gt_name)\n",
    "\n",
    "GT = GT - 1\n",
    "HSI = X.reshape((M, N, D))\n",
    "\n",
    "graph_extractor = GraphExtractor(sigma=1.0, DiffusionNN=10, NEigs=5) #should probably add like sucess print statements here bc idrk if this works just yet..\n",
    "density_estimator = DensityEstimator(DensityNN=10, Sigma0=1.0)\n",
    "\n",
    "p = density_estimator.kde(X)\n",
    "G = graph_extractor.extract_graph(X)\n",
    "\n",
    "t = 1.0\n",
    "\n",
    "C, K, Dt = LearningbyUnsupervisedNonlinearDiffusion(X, t, G, p)\n",
    "\n",
    "print(\"Cluster labels:\", C)\n",
    "print(\"Number of clusters:\", K)\n",
    "print(\"Diffusion distances:\", Dt)\n",
    "\n",
    "accuracy = calculate_aligned_accuracy(GT, C)\n",
    "print(\"Aligned Accuracy:\", accuracy)\n",
    "\n",
    "#note potentially worth running in an env. i cant\n"
   ]
  }
 ],
 "metadata": {
  "kernelspec": {
   "display_name": "csci1470",
   "language": "python",
   "name": "python3"
  },
  "language_info": {
   "codemirror_mode": {
    "name": "ipython",
    "version": 3
   },
   "file_extension": ".py",
   "mimetype": "text/x-python",
   "name": "python",
   "nbconvert_exporter": "python",
   "pygments_lexer": "ipython3",
   "version": "3.10.14"
  }
 },
 "nbformat": 4,
 "nbformat_minor": 2
}
