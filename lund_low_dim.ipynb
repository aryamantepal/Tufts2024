{
 "cells": [
  {
   "cell_type": "code",
   "execution_count": 2,
   "metadata": {},
   "outputs": [
    {
     "name": "stdout",
     "output_type": "stream",
     "text": [
      "GRID SIZE:  32\n",
      "Data shape: (1000, 2)\n",
      "Initialized with NEigs = 1000 (type: <class 'int'>)\n",
      "[[0.         2.71213211 2.59563926 ... 2.60488795 0.63249972 3.13851077]\n",
      " [2.71213211 0.         0.63901434 ... 2.50514732 2.89902198 3.47108215]\n",
      " [2.59563926 0.63901434 0.         ... 1.88806756 2.91528799 2.85288259]\n",
      " ...\n",
      " [2.60488795 2.50514732 1.88806756 ... 0.         3.19692937 0.96601409]\n",
      " [0.63249972 2.89902198 2.91528799 ... 3.19692937 0.         3.76737337]\n",
      " [3.13851077 3.47108215 2.85288259 ... 0.96601409 3.76737337 0.        ]]\n",
      "entering try\n"
     ]
    },
    {
     "name": "stderr",
     "output_type": "stream",
     "text": [
      "/Users/seoli/Desktop/DIAMONDS/Tufts2024/lund/utils.py:58: RuntimeWarning: k >= N - 1 for N * N square matrix. Attempting to use scipy.linalg.eig instead.\n",
      "  eigvals, eigvecs = eigs(P, k = self.NEigs)\n"
     ]
    },
    {
     "name": "stdout",
     "output_type": "stream",
     "text": [
      "EigenDecomposition of P failed\n",
      "{'Hyperparameters': {'Sigma': 1.0, 'DiffusionNN': 100}, 'EigenVecs': nan, 'EigenVals': nan, 'StationaryDist': nan, 'P': nan, 'W': nan}\n"
     ]
    },
    {
     "ename": "TypeError",
     "evalue": "object of type 'float' has no len()",
     "output_type": "error",
     "traceback": [
      "\u001b[0;31m---------------------------------------------------------------------------\u001b[0m",
      "\u001b[0;31mTypeError\u001b[0m                                 Traceback (most recent call last)",
      "Cell \u001b[0;32mIn[2], line 45\u001b[0m\n\u001b[1;32m     43\u001b[0m \u001b[38;5;28mprint\u001b[39m(G)\n\u001b[1;32m     44\u001b[0m t \u001b[38;5;241m=\u001b[39m \u001b[38;5;241m1\u001b[39m\n\u001b[0;32m---> 45\u001b[0m distances, embedding \u001b[38;5;241m=\u001b[39m \u001b[43mdiffusion_distance\u001b[49m\u001b[43m(\u001b[49m\u001b[43mG\u001b[49m\u001b[43m,\u001b[49m\u001b[43m \u001b[49m\u001b[43mt\u001b[49m\u001b[43m)\u001b[49m\n\u001b[1;32m     47\u001b[0m \u001b[38;5;66;03m# Plot the diffusion map (embedding)\u001b[39;00m\n\u001b[1;32m     48\u001b[0m plt\u001b[38;5;241m.\u001b[39mfigure(figsize\u001b[38;5;241m=\u001b[39m(\u001b[38;5;241m8\u001b[39m, \u001b[38;5;241m6\u001b[39m))\n",
      "File \u001b[0;32m~/Desktop/DIAMONDS/Tufts2024/lund/utils.py:153\u001b[0m, in \u001b[0;36mdiffusion_distance\u001b[0;34m(G, t)\u001b[0m\n\u001b[1;32m    151\u001b[0m eigenvecs \u001b[38;5;241m=\u001b[39m G[\u001b[38;5;124m'\u001b[39m\u001b[38;5;124mEigenVecs\u001b[39m\u001b[38;5;124m'\u001b[39m]\n\u001b[1;32m    152\u001b[0m eigenvals \u001b[38;5;241m=\u001b[39m G[\u001b[38;5;124m'\u001b[39m\u001b[38;5;124mEigenVals\u001b[39m\u001b[38;5;124m'\u001b[39m] \n\u001b[0;32m--> 153\u001b[0m emb \u001b[38;5;241m=\u001b[39m np\u001b[38;5;241m.\u001b[39marray([eigenvecs[:, i] \u001b[38;5;241m*\u001b[39m (eigenvals[i] \u001b[38;5;241m*\u001b[39m\u001b[38;5;241m*\u001b[39m t) \u001b[38;5;28;01mfor\u001b[39;00m i \u001b[38;5;129;01min\u001b[39;00m \u001b[38;5;28mrange\u001b[39m(\u001b[38;5;28;43mlen\u001b[39;49m\u001b[43m(\u001b[49m\u001b[43meigenvals\u001b[49m\u001b[43m)\u001b[49m)])\u001b[38;5;241m.\u001b[39mT\n\u001b[1;32m    154\u001b[0m \u001b[38;5;66;03m# Compute the pairwise distances\u001b[39;00m\n\u001b[1;32m    155\u001b[0m \u001b[38;5;28;01mreturn\u001b[39;00m cdist(emb, emb), emb\n",
      "\u001b[0;31mTypeError\u001b[0m: object of type 'float' has no len()"
     ]
    }
   ],
   "source": [
    "import numpy as np\n",
    "import seaborn as sns\n",
    "from sklearn.cluster import KMeans\n",
    "from sklearn.neighbors import KernelDensity\n",
    "from sklearn.datasets import make_moons, make_blobs, make_classification\n",
    "from sklearn.manifold import TSNE\n",
    "from scipy.sparse.csgraph import laplacian\n",
    "from scipy.spatial.distance import pdist, squareform\n",
    "from lund.lund import LearningbyUnsupervisedNonlinearDiffusion\n",
    "from lund.utils import GraphExtractor, diffusion_distance\n",
    "from model.utils import loadHSI,calculate_aligned_accuracy\n",
    "import matplotlib.pyplot as plt\n",
    "import scipy.io\n",
    "\n",
    "\n",
    "# data_path, gt_path, data_name, gt_name = '/Users/seoli/Desktop/DIAMONDS/Tufts2024/data/SalinasA_corrected.mat', '/Users/seoli/Desktop/DIAMONDS/Tufts2024/data/SalinasA_gt.mat', 'salinasA_corrected', 'salinasA_gt'\n",
    "\n",
    "\n",
    "# X, M, N, D, HSI, GT, Y, n, K = loadHSI(data_path, gt_path, data_name, gt_name)\n",
    "X, GT = make_classification(n_samples=1000, n_features=2, n_informative=2, n_redundant=0, n_clusters_per_class=1, random_state=42)\n",
    "scipy.io.savemat('data.mat', {'X': X, 'GT': GT})\n",
    "\n",
    "grid_size = int(np.ceil(np.sqrt(X.shape[0])))\n",
    "print(\"GRID SIZE: \", grid_size)\n",
    "\n",
    "print(\"Data shape:\", X.shape)\n",
    "\n",
    "# GT = GT - 1\n",
    "# HSI = X.reshape((M, N, D))\n",
    "Hyperparameters = {\n",
    "    'Sigma': 1.0,\n",
    "    'DiffusionNN': 10,\n",
    "    \n",
    "}\n",
    "\n",
    "kde = KernelDensity(bandwidth=1.0)\n",
    "kde.fit(X)\n",
    "log_density = kde.score_samples(X)\n",
    "p = np.exp(log_density)\n",
    "\n",
    "graph_extractor = GraphExtractor()\n",
    "G = graph_extractor.extract_graph(X)\n",
    "print(G)\n",
    "t = 1\n",
    "distances, embedding = diffusion_distance(G, t)\n",
    "\n",
    "# Plot the diffusion map (embedding)\n",
    "plt.figure(figsize=(8, 6))\n",
    "plt.scatter(embedding[:, 1], embedding[:, 2], c=np.arange(len(embedding)), cmap='viridis')\n",
    "plt.title('Diffusion Map')\n",
    "plt.xlabel('Component 1')\n",
    "plt.ylabel('Component 2')\n",
    "plt.colorbar()\n",
    "plt.show()\n",
    "\n",
    "# Plot the diffusion distances\n",
    "plt.figure(figsize=(8, 6))\n",
    "plt.imshow(distances, cmap='viridis')\n",
    "plt.title('Diffusion Distances')\n",
    "plt.colorbar()\n",
    "plt.show()\n",
    "\n",
    "C, K, Dt = LearningbyUnsupervisedNonlinearDiffusion(X, t, G, p)\n",
    "\n",
    "\n",
    "# print(\"Cluster labels:\", C)\n",
    "# print(\"GT\",GT)\n",
    "print(\"Number of clusters:\", K)\n",
    "\n",
    "accuracy = calculate_aligned_accuracy(GT, C)\n",
    "print(\"Aligned Accuracy:\", accuracy)\n",
    "\n",
    "def plot_clusters(X, labels, title):\n",
    "    plt.scatter(X[:, 0], X[:, 1], c=labels, cmap='viridis', s=50)\n",
    "    plt.title(title)\n",
    "    plt.show()\n",
    "    \n",
    "def plot_kde_density(X, title):\n",
    "    # Create the KDE plot\n",
    "    plt.figure(figsize=(10, 6))\n",
    "    sns.kdeplot(x=X[:, 0], y=X[:, 1], cmap='viridis', fill=True, levels=20, thresh=0)\n",
    "    plt.scatter(X[:, 0], X[:, 1], c='red', s=5, edgecolor='k')\n",
    "    plt.title(title)\n",
    "    plt.show()\n",
    "\n",
    "\n",
    "plot_clusters(X, C, f\"LUND Clustering (Aligned Accuracy: {accuracy:.2f})\")\n",
    "plot_clusters(X, GT, \"Ground Truth\")\n",
    "# plot_kde_density(X, \"KDE Density Estimation\")\n",
    "\n",
    "# kmeans = KMeans(n_clusters=2, random_state=42)\n",
    "# kmeans_labels = kmeans.fit_predict(X)\n",
    "# kmeans_accuracy = calculate_aligned_accuracy(GT, kmeans_labels)\n",
    "# print(\"Aligned Accuracy (KMeans Clustering):\", kmeans_accuracy)\n",
    "# plot_clusters(X, kmeans_labels, f\"KMeans Clustering (Aligned Accuracy: {kmeans_accuracy:.2f})\")\n",
    "\n",
    "\n"
   ]
  },
  {
   "cell_type": "code",
   "execution_count": null,
   "metadata": {},
   "outputs": [],
   "source": []
  }
 ],
 "metadata": {
  "kernelspec": {
   "display_name": "csci1470",
   "language": "python",
   "name": "python3"
  },
  "language_info": {
   "codemirror_mode": {
    "name": "ipython",
    "version": 3
   },
   "file_extension": ".py",
   "mimetype": "text/x-python",
   "name": "python",
   "nbconvert_exporter": "python",
   "pygments_lexer": "ipython3",
   "version": "3.10.14"
  }
 },
 "nbformat": 4,
 "nbformat_minor": 2
}
